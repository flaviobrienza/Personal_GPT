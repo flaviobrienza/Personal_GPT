{
 "cells": [
  {
   "cell_type": "markdown",
   "metadata": {},
   "source": [
    "# Code to Connect to Stored Procedures "
   ]
  },
  {
   "cell_type": "markdown",
   "metadata": {},
   "source": [
    "## Importing Libraries"
   ]
  },
  {
   "cell_type": "code",
   "execution_count": 1,
   "metadata": {},
   "outputs": [],
   "source": [
    "import mysql.connector"
   ]
  },
  {
   "cell_type": "markdown",
   "metadata": {},
   "source": [
    "## Translating Stored Procedures into Python Functions "
   ]
  },
  {
   "cell_type": "markdown",
   "metadata": {},
   "source": [
    "### Connection Set Up "
   ]
  },
  {
   "cell_type": "code",
   "execution_count": 2,
   "metadata": {},
   "outputs": [],
   "source": [
    "# Getting the cursor \n",
    "\n",
    "def get_db_cursor():\n",
    "    db = mysql.connector.connect(\n",
    "        host='localhost',\n",
    "        user='root',\n",
    "        password='YOUR PASSWORD HERE', \n",
    "        database='seriea_2022_2023')\n",
    "    cursor = db.cursor()\n",
    "    return db, cursor \n",
    "\n",
    "# Closing connection \n",
    "\n",
    "def close_connection(db, cursor):\n",
    "    cursor.close()\n",
    "    db.close()"
   ]
  },
  {
   "cell_type": "markdown",
   "metadata": {},
   "source": [
    "### Calling Stored Procedures"
   ]
  },
  {
   "cell_type": "code",
   "execution_count": 3,
   "metadata": {},
   "outputs": [],
   "source": [
    "def get_player_general_stats(params):\n",
    "    db, cursor = get_db_cursor() \n",
    "    cursor.callproc('pl_gen_stats', [(params.get('player_name',''))]) \n",
    "\n",
    "    final_results = {}\n",
    "\n",
    "    stats = ['Goals', 'Assists', 'Expected Goals', 'Non-penalty Expected Goals', 'Progressive Passes', 'Progressive Carries', 'Shots on target', \n",
    "            'Goals per Shot', 'Goals per shot on target']\n",
    "            \n",
    "    for res in cursor.stored_results():\n",
    "        result = res.fetchone()\n",
    "\n",
    "    results_list = list(result) \n",
    "\n",
    "    for k,v in zip(stats, results_list):\n",
    "        final_results[k] = float(v) \n",
    "    \n",
    "    close_connection(db,cursor)\n",
    "\n",
    "    return final_results"
   ]
  },
  {
   "cell_type": "markdown",
   "metadata": {},
   "source": [
    "Testing it. "
   ]
  },
  {
   "cell_type": "code",
   "execution_count": 4,
   "metadata": {},
   "outputs": [
    {
     "name": "stdout",
     "output_type": "stream",
     "text": [
      "{'Goals': 8.0, 'Assists': 3.0, 'Expected Goals': 10.8, 'Non-penalty Expected Goals': 10.8, 'Progressive Passes': 54.0, 'Progressive Carries': 35.0, 'Shots on target': 28.0, 'Goals per Shot': 0.13, 'Goals per shot on target': 0.29}\n"
     ]
    }
   ],
   "source": [
    "if __name__ == '__main__':\n",
    "    print(get_player_general_stats({\n",
    "        'player_name':'Tammy Abraham'\n",
    "    }))"
   ]
  }
 ],
 "metadata": {
  "kernelspec": {
   "display_name": "Python 3 (ipykernel)",
   "language": "python",
   "name": "python3"
  },
  "language_info": {
   "codemirror_mode": {
    "name": "ipython",
    "version": 3
   },
   "file_extension": ".py",
   "mimetype": "text/x-python",
   "name": "python",
   "nbconvert_exporter": "python",
   "pygments_lexer": "ipython3",
   "version": "3.10.2"
  }
 },
 "nbformat": 4,
 "nbformat_minor": 2
}
