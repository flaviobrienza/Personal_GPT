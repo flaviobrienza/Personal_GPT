{
 "cells": [
  {
   "cell_type": "markdown",
   "metadata": {},
   "source": [
    "# OpenAI Part"
   ]
  },
  {
   "cell_type": "code",
   "execution_count": 1,
   "metadata": {},
   "outputs": [],
   "source": [
    "import openai \n",
    "import proj_db \n",
    "import json \n",
    "\n",
    "# Your OpenAI api key must be provided. "
   ]
  },
  {
   "cell_type": "markdown",
   "metadata": {},
   "source": [
    "Writing the function. "
   ]
  },
  {
   "cell_type": "code",
   "execution_count": 2,
   "metadata": {},
   "outputs": [],
   "source": [
    "def get_answer(question): \n",
    "    messages = [{'role':'user', 'content':question}]\n",
    "    functions = [\n",
    "        {\n",
    "            'name':'get_player_general_stats',\n",
    "            'description':'''This function is used to get some general stats of a speicfic soccer player. It returns a dictionary with some parameters,\n",
    "            all of them referred to the 2022/2023 soccer season. The parameters are: Goals, Assists, Expected Goals (how many goals he should have scored),\n",
    "            Non-penalty expected goals (expected goals without penalty kicks), Progressive passes (passes made near the opponent penalty area), \n",
    "            Progressive carries (carries that move the ball towards the opponent's goal line at least 10 yards from its furthest point in the last six passes), \n",
    "            Shots on target, Goals per shot (GSh), Goals per shot on target (GSot)''',\n",
    "            'parameters':{\n",
    "                'type':'object',\n",
    "            'properties':{\n",
    "                'player_name':{\n",
    "                    'type':'string',\n",
    "                    'description':\"Player's whom stats are needed. His first name and last name will be provided\"\n",
    "                }\n",
    "            },\n",
    "            'required':['player_name']\n",
    "            }\n",
    "        }\n",
    "    ]\n",
    "    response = openai.ChatCompletion.create(\n",
    "    model = 'gpt-3.5-turbo',\n",
    "    messages = messages, \n",
    "    functions = functions,\n",
    "    function_call = 'auto') \n",
    "    response_message = response['choices'][0]['message']\n",
    "    if response_message.get('function_call'):\n",
    "        available_functions = {'get_player_general_stats':proj_db.get_player_general_stats}\n",
    "        response_message = response['choices'][0]['message'] \n",
    "        function_name = response_message['function_call']['name']\n",
    "        function_to_call = available_functions[function_name]\n",
    "        function_args = json.loads(response_message ['function_call']['arguments'])\n",
    "        function_response = function_to_call(function_args)\n",
    "        messages.append(response_message)\n",
    "        messages.append({\n",
    "            'role':'function',\n",
    "            'name':function_name,\n",
    "            'content':str(function_response)\n",
    "        })\n",
    "\n",
    "        second_response = openai.ChatCompletion.create(\n",
    "            model='gpt-3.5-turbo',\n",
    "            messages=messages\n",
    "        )\n",
    "        return second_response['choices'][0]['message']['content']\n",
    "    else:\n",
    "        return response_message['content']"
   ]
  },
  {
   "cell_type": "markdown",
   "metadata": {},
   "source": [
    "Testing."
   ]
  },
  {
   "cell_type": "code",
   "execution_count": 24,
   "metadata": {},
   "outputs": [
    {
     "name": "stdout",
     "output_type": "stream",
     "text": [
      "The sum of goals and assists of Victor Osimhen is 30.\n"
     ]
    }
   ],
   "source": [
    "if __name__ == '__main__':\n",
    "    print(get_answer('What is the sum of goals and assits of Victor Osimhen?'))"
   ]
  },
  {
   "cell_type": "code",
   "execution_count": 32,
   "metadata": {},
   "outputs": [
    {
     "name": "stdout",
     "output_type": "stream",
     "text": [
      "Lazar Samardzic has scored a total of 5 goals and provided 4 assists. He has an expected goals (xG) of 2.4 and a non-penalty expected goals (npxG) of 2.4. Samardzic has made 100 progressive passes and completed 34 progressive carries. He has hit the target with 18 shots, resulting in a goal conversion rate of 0.1 and a shots on target conversion rate of 0.28.\n"
     ]
    }
   ],
   "source": [
    "if __name__ == '__main__':\n",
    "    print(get_answer('Provide me a summary of the Lazar Samardzic shooting stats.'))"
   ]
  }
 ],
 "metadata": {
  "kernelspec": {
   "display_name": "Python 3",
   "language": "python",
   "name": "python3"
  },
  "language_info": {
   "codemirror_mode": {
    "name": "ipython",
    "version": 3
   },
   "file_extension": ".py",
   "mimetype": "text/x-python",
   "name": "python",
   "nbconvert_exporter": "python",
   "pygments_lexer": "ipython3",
   "version": "3.10.2"
  },
  "orig_nbformat": 4
 },
 "nbformat": 4,
 "nbformat_minor": 2
}
